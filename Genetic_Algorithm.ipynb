{
  "cells": [
    {
      "cell_type": "markdown",
      "id": "a134c94f-1ce1-4629-8dbe-ec7a4f966977",
      "metadata": {
        "id": "a134c94f-1ce1-4629-8dbe-ec7a4f966977"
      },
      "source": [
        "<center><b><font color='red' size=8>Genetic Algorithm</font></b></center>"
      ]
    },
    {
      "cell_type": "markdown",
      "id": "678ed3da-1d50-4e26-a9f5-a2ab2112ca0e",
      "metadata": {
        "id": "678ed3da-1d50-4e26-a9f5-a2ab2112ca0e"
      },
      "source": [
        "---\n",
        "### An Introduction To The Problem. \"Background\"\n",
        "#### In this notebook, we will implement genetic algorithm for learning purposed only, so it will not be ready to use for real problems, till we modify some functions wihtin the algorithm.\n",
        "###### `PS:` The selected methods within each function as an ideas from me, but most of the implementation fundamentals by Chat-Gpt."
      ]
    },
    {
      "cell_type": "markdown",
      "id": "dfd92f30-8107-45da-b4e0-e7fe749458a8",
      "metadata": {
        "id": "dfd92f30-8107-45da-b4e0-e7fe749458a8"
      },
      "source": [
        "---\n",
        "## Table Of Contents:\n",
        "1. #### Importing Necessary Packages. [Go to T.1](#T.1)\n",
        "2. #### Initialize and Create The Population. [Go to T.2](#T.2)\n",
        "3. #### Fitness Function. [Go to T.3](#T.3)\n",
        "4. #### Selection Function. [Go to T.4](#T.4)\n",
        "5. #### Crossover Function. [Go to T.5](#T.5)\n",
        "6. #### Mutation Function. [Go to T.6](#T.6)\n",
        "7. #### Sample Run. [Go to T.7](#T.7)"
      ]
    },
    {
      "cell_type": "markdown",
      "id": "7a31f83b-0a56-4ff0-96ec-b0eed327aa6d",
      "metadata": {
        "tags": [],
        "id": "7a31f83b-0a56-4ff0-96ec-b0eed327aa6d"
      },
      "source": [
        "---\n",
        "<a id=\"T.1\"></a>\n",
        "### Importing Necessary Packages:\n",
        "#### We Will Use The Following Package For Our Algorithm:\n",
        "* ##### Random\n",
        "###### `PS:` We Will Use This Package For:\n",
        "1. ###### Creating A Population, As We Are Not Going To Use The Algorithm For A Real Dataset In This Homework.\n",
        "2. ###### Selection Process, As We Are Going To Use Roulette-Wheel Method To Select The Parents.\n",
        "3. ###### Crossover Process, As We Are Going To Perform Tow-Point Crossover, Which Requires To Select Two Random Points.\n",
        "4. ###### Mutation Process, As We Are Going To Perform Bit-Flip Mutation, Which Requires To Pickup A Random Bit In The Chromosome, Which Is Going To Be Flipped With A Certain Probability."
      ]
    },
    {
      "cell_type": "code",
      "execution_count": null,
      "id": "914d32a1-3108-42df-8516-46308811495c",
      "metadata": {
        "id": "914d32a1-3108-42df-8516-46308811495c"
      },
      "outputs": [],
      "source": [
        "import random"
      ]
    },
    {
      "cell_type": "markdown",
      "id": "c587dffc-7fed-4780-8261-0e6b8845db01",
      "metadata": {
        "tags": [],
        "id": "c587dffc-7fed-4780-8261-0e6b8845db01"
      },
      "source": [
        "---\n",
        "<a id=\"T.2\"></a>\n",
        "### Initialize and Create The Population:\n",
        "#### In This Part, We Will:\n",
        "* ##### Create A Population Given The Population Size `\"How Many Chromosomes We Would Like To Have\"`, And The Chromosome Size `\"How Many Genes Will Be Within Each Chromosome\"`.\n",
        "###### `PS:` We Will Create A Boolean Population Randomly Using `Random` Package Functions, Which Includes \"0's and 1's\"."
      ]
    },
    {
      "cell_type": "code",
      "execution_count": null,
      "id": "da3424eb-045e-4d2f-aa92-8912987169eb",
      "metadata": {
        "id": "da3424eb-045e-4d2f-aa92-8912987169eb"
      },
      "outputs": [],
      "source": [
        "def create_population(chromosomes_num, genes_num):\n",
        "\n",
        "    # Create empty list 'array' as the \"population\" we'll create.\n",
        "    population = []\n",
        "\n",
        "    # Loop to insert chromosomes 'rows' in our population with range of the given arguement 'chromosomes_num'.\n",
        "    for i in range(chromosomes_num):\n",
        "\n",
        "        # Which would be created also using 'randint()' function to pickup 0/1 to be as a gene within our chromosome.\n",
        "        # And our chromosome will have 'genes_num' genes.\n",
        "        chromosome = [random.randint(0, 1) for i in range(genes_num)]\n",
        "\n",
        "        # Then add our generated chromosome to our population.\n",
        "        population.append(chromosome)\n",
        "    return population"
      ]
    },
    {
      "cell_type": "markdown",
      "id": "1d5f75ee-b340-40b8-9bc9-916285eb6190",
      "metadata": {
        "tags": [],
        "id": "1d5f75ee-b340-40b8-9bc9-916285eb6190"
      },
      "source": [
        "---\n",
        "<a id=\"T.3\"></a>\n",
        "### Fitness Function.\n",
        "#### In This Part, We Will:\n",
        "* ##### Implement A Fitness Function, Which Is A Simple One, That Calculated The Absolute Value Of The Difference Between The Number Of 0's In Our Chromosome, And The Number Of 1's."
      ]
    },
    {
      "cell_type": "code",
      "execution_count": null,
      "id": "c3a26d54-a8e2-4948-b045-b21127aac7ee",
      "metadata": {
        "id": "c3a26d54-a8e2-4948-b045-b21127aac7ee"
      },
      "outputs": [],
      "source": [
        "def fitness_function(chromosome):\n",
        "\n",
        "    # Get the number of ones that exists in our given chromosome.\n",
        "    num_ones = sum(chromosome)\n",
        "\n",
        "    # And do the same for zeros.\n",
        "    num_zeros = len(chromosome) - num_ones\n",
        "\n",
        "    #Then calculate the fitness score which will be here as the absolute difference between the number of ones, and zeros.\n",
        "    fitness_score = abs(num_ones - num_zeros)\n",
        "    return fitness_score"
      ]
    },
    {
      "cell_type": "markdown",
      "id": "c50c5264-2c4e-49d8-b369-0db191f5db76",
      "metadata": {
        "id": "c50c5264-2c4e-49d8-b369-0db191f5db76"
      },
      "source": [
        "---\n",
        "<a id=\"T.4\"></a>\n",
        "### Selection Function.\n",
        "#### In This Part, We Will:\n",
        "* ##### Implement A Selection Function To Select The Parents For The Next Generation, Which We Will Implement `Roulette-Wheel` To Use As A Selection Method, That Simply Spin The Wheel And Choose A Chromosome At Random According To Where The Pointer Lands."
      ]
    },
    {
      "cell_type": "code",
      "execution_count": null,
      "id": "2c5bfd0b-76f0-439e-b9dc-fc7f477f4e59",
      "metadata": {
        "id": "2c5bfd0b-76f0-439e-b9dc-fc7f477f4e59"
      },
      "outputs": [],
      "source": [
        "def selection_function(chromosomes_fitnesses):\n",
        "\n",
        "    # First, calculate the probabilites of each chromosome in the population by dividing each chromosome's fitness value, by the total sum of fitnesses.\n",
        "    chromosomes_probabilities = [score / sum(chromosomes_fitnesses) for score in chromosomes_fitnesses]\n",
        "\n",
        "    # Then, pickup a random number from the uniform distribution, which will be between 0 and 1,\n",
        "    # And this number will be used as the deteminiation probability of picking up the chromosome to be as a parent.\n",
        "    determination_num = random.uniform(0, 1)\n",
        "\n",
        "    # So, we start to calculate a cummulative probabilities of the chromosomes probabilites.\n",
        "    cumulative_prob = 0\n",
        "    for parent_index, prob in enumerate(chromosomes_probabilities):\n",
        "        cumulative_prob += prob\n",
        "\n",
        "        # And if the cumulative probability is higher than the selected 'determiniation-prob' then, it will select the current chromosome as a parent.\n",
        "        if determination_num <= cumulative_prob:\n",
        "            return parent_index"
      ]
    },
    {
      "cell_type": "markdown",
      "id": "ddb914b7-bd4d-49b5-8e97-0ea0d96c478e",
      "metadata": {
        "id": "ddb914b7-bd4d-49b5-8e97-0ea0d96c478e"
      },
      "source": [
        "---\n",
        "<a id=\"T.5\"></a>\n",
        "### Crossover Function.\n",
        "#### In This Part, We Will:\n",
        "* ##### Implement A Crossover Function To Apply A Crossover On The Given Parents To Produce New Offsprings `Children`, Which We Will Implement `Two-Point` To Use As A Crossover Method, That Simply Pickup Two Random Locations From The Parents To Exchange Features Between Them."
      ]
    },
    {
      "cell_type": "code",
      "execution_count": null,
      "id": "32769a40-aaf1-4ab5-96a5-2d43f7013ec2",
      "metadata": {
        "id": "32769a40-aaf1-4ab5-96a5-2d43f7013ec2"
      },
      "outputs": [],
      "source": [
        "def crossover_function(parent1, parent2):\n",
        "\n",
        "    # Perform two-point crossover.\n",
        "    n = len(parent1)\n",
        "\n",
        "    # Select two different crossover points.\n",
        "    point1, point2 = sorted(random.sample(range(1, n), 2))\n",
        "\n",
        "    # Create the offsprings \"children\".\n",
        "    offspring1 = parent1[:point1] + parent2[point1:point2] + parent1[point2:]\n",
        "    offspring2 = parent2[:point1] + parent1[point1:point2] + parent2[point2:]\n",
        "    return offspring1, offspring2"
      ]
    },
    {
      "cell_type": "markdown",
      "id": "2986bd14-277f-41d0-b59c-c5a04c066907",
      "metadata": {
        "tags": [],
        "id": "2986bd14-277f-41d0-b59c-c5a04c066907"
      },
      "source": [
        "---\n",
        "<a id=\"T.6\"></a>\n",
        "### Mutation Function.\n",
        "#### In This Part, We Will:\n",
        "* ##### Implement A Mutation Function To Apply And Introduce Small Random Changes On The Produced Offsprings `Children` In Order To Help To Introduce Diversity In The Population, And We Will Implement `Bit-Flip` To Use As A Mutation Method, That Simply Pickup A Random Bit In The Chromosome, Which Is Going To Be Flipped With A Certain Probability."
      ]
    },
    {
      "cell_type": "code",
      "execution_count": null,
      "id": "b14b0ac6-35f4-46f6-8c96-1e1bad0532cd",
      "metadata": {
        "id": "b14b0ac6-35f4-46f6-8c96-1e1bad0532cd"
      },
      "outputs": [],
      "source": [
        "def mutation_function(chromosome, mutation_rate):\n",
        "    mutated_chromosome = chromosome.copy()\n",
        "    # We will perform bit-flip crossover by,\n",
        "    for i in range(len(chromosome)):\n",
        "\n",
        "        # Subtracting 1 from the gene, which means it will flip it was 0 or 1,\n",
        "        # If a random number generated within [0,1) less than the mutation rate given as an arguement.\n",
        "        if random.random() < mutation_rate:\n",
        "                mutated_chromosome[i] = 1 - mutated_chromosome[i]\n",
        "    return mutated_chromosome"
      ]
    },
    {
      "cell_type": "markdown",
      "id": "227d5a19-328b-43fb-953d-306b861ce24a",
      "metadata": {
        "tags": [],
        "id": "227d5a19-328b-43fb-953d-306b861ce24a"
      },
      "source": [
        "---\n",
        "<a id=\"T.7\"></a>\n",
        "### Sample Run.\n",
        "#### In This Part, We Will:\n",
        "* ##### Run The Algorithm And Use All Previously-Defined Functions To Process As A Genetic Algorithm To Pickup The Best Fitness, And Chromosome Among The Given Population."
      ]
    },
    {
      "cell_type": "code",
      "execution_count": null,
      "id": "cc5ef207-71b0-4dd2-9046-6ba78a99aa39",
      "metadata": {
        "id": "cc5ef207-71b0-4dd2-9046-6ba78a99aa39"
      },
      "outputs": [],
      "source": [
        "# Terminiation Condition will be on setting a maximum number of generations that the algorithm can run for.\n",
        "# So once the algorithm has generated that number of generations, it will terminate and return the best solution found so far.\n",
        "\n",
        "# Set the genetic algorithm parameters.\n",
        "population_size = 500\n",
        "chromosome_size = 50\n",
        "mutation_rate = 0.01\n",
        "num_generations = 30\n",
        "\n",
        "# Create the population.\n",
        "population = create_population(population_size, chromosome_size)\n",
        "best_found = dict()\n",
        "# Iterate over the generations.\n",
        "for generation in range(num_generations):\n",
        "    # evaluate the fitness of each chromosome in the population.\n",
        "    fitness_scores = [fitness_function(chromosome) for chromosome in population]\n",
        "\n",
        "    # Select parents for reproduction using roulette wheel selection.\n",
        "    parent_indices = [selection_function(fitness_scores) for i in range(population_size)]\n",
        "\n",
        "    # Create the next generation through crossover and mutation.\n",
        "    next_population = []\n",
        "    for i in range(0, population_size, 2):\n",
        "        parent1 = population[parent_indices[i]]\n",
        "        parent2 = population[parent_indices[i + 1]]\n",
        "        offspring1, offspring2 = crossover_function(parent1, parent2)\n",
        "        mutated_offspring1 = mutation_function(offspring1, mutation_rate)\n",
        "        mutated_offspring2 = mutation_function(offspring2, mutation_rate)\n",
        "        next_population.append(mutated_offspring1)\n",
        "        next_population.append(mutated_offspring2)\n",
        "\n",
        "    # Replace the current population with the next generation.\n",
        "    population = next_population\n",
        "\n",
        "    # Find the best fitness score and chromosome of this generation.\n",
        "    best_fitness_score = max(fitness_scores)\n",
        "    best_chromosome = population[fitness_scores.index(best_fitness_score)]\n",
        "    best_found[best_fitness_score] = best_chromosome\n",
        "\n",
        "    # Print the best fitness score and chromosome.\n",
        "    print('Generation Number:', generation + 1)\n",
        "    print(f'Best Fitness Score Of This Generation Is: {best_fitness_score:.2f}')\n",
        "    print(\"And It's Chromosome Is:\", best_chromosome)\n",
        "    print('-'*30)\n",
        "print('Best Fitness Score From All Generations Is:', max(best_found))\n",
        "print(\"And It's Chromosome Is:\", best_found[max(best_found)])"
      ]
    },
    {
      "cell_type": "code",
      "execution_count": null,
      "id": "ede4013e-e46a-4147-af41-c6638046109a",
      "metadata": {
        "id": "ede4013e-e46a-4147-af41-c6638046109a"
      },
      "outputs": [],
      "source": []
    }
  ],
  "metadata": {
    "kernelspec": {
      "display_name": "Python 3 (ipykernel)",
      "language": "python",
      "name": "python3"
    },
    "language_info": {
      "codemirror_mode": {
        "name": "ipython",
        "version": 3
      },
      "file_extension": ".py",
      "mimetype": "text/x-python",
      "name": "python",
      "nbconvert_exporter": "python",
      "pygments_lexer": "ipython3",
      "version": "3.9.13"
    },
    "colab": {
      "provenance": []
    }
  },
  "nbformat": 4,
  "nbformat_minor": 5
}